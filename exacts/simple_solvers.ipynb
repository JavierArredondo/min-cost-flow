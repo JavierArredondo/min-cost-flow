{
 "cells": [
  {
   "cell_type": "code",
   "execution_count": 1,
   "metadata": {},
   "outputs": [],
   "source": [
    "from ortools.graph import pywrapgraph\n",
    "\n",
    "import pandas as pd\n",
    "import numpy as np\n",
    "import re\n",
    "\n",
    "import os\n",
    "\n",
    "\n",
    "def read_arcs(expression, lines):\n",
    "    filtered = list(filter(expression.match, lines))\n",
    "    vector = map(lambda x: [int(y) for y in x.split()[1:]], filtered)\n",
    "    vector = list(vector)\n",
    "    col_names = (\"tail\", \"head\", \"low\", \"cap\", \"cost\")\n",
    "    for y, x in enumerate(vector):\n",
    "        if len(x) != 5:\n",
    "            print(y, x)\n",
    "    data = pd.DataFrame.from_records(vector, columns=col_names)\n",
    "    data[\"flow\"] = 0\n",
    "    return data\n",
    "\n",
    "\n",
    "def read_nodes(expression, lines, nodes):\n",
    "    filtered = list(filter(expression.match, lines))\n",
    "    values = list(map(lambda x: x.split()[1:], filtered))\n",
    "    vector = np.zeros(nodes, dtype=int)\n",
    "    for i in values:\n",
    "        node = int(i[0]) - 1\n",
    "        flow = int(i[1])\n",
    "        vector[node] = flow\n",
    "    return vector\n",
    "\n",
    "\n",
    "def read_net(path_to_file):\n",
    "    r_arcs = re.compile(\"^a\")\n",
    "    r_nodes = re.compile(\"^n\")\n",
    "    with open(path_to_file) as f:\n",
    "        content = f.readlines()\n",
    "        arcs = read_arcs(r_arcs, content)\n",
    "        nodes = read_nodes(r_nodes, content, len(set(arcs[\"tail\"]).union(arcs[\"head\"])))\n",
    "    return arcs, nodes\n"
   ]
  },
  {
   "cell_type": "code",
   "execution_count": 3,
   "metadata": {},
   "outputs": [
    {
     "ename": "NameError",
     "evalue": "name 'files' is not defined",
     "output_type": "error",
     "traceback": [
      "\u001b[0;31m---------------------------------------------------------------------------\u001b[0m",
      "\u001b[0;31mNameError\u001b[0m                                 Traceback (most recent call last)",
      "\u001b[0;32m<ipython-input-3-78bd31f601c2>\u001b[0m in \u001b[0;36m<module>\u001b[0;34m\u001b[0m\n\u001b[1;32m      1\u001b[0m \u001b[0me\u001b[0m \u001b[0;34m=\u001b[0m \u001b[0;34m\"\"\u001b[0m\u001b[0;34m\u001b[0m\u001b[0;34m\u001b[0m\u001b[0m\n\u001b[0;32m----> 2\u001b[0;31m \u001b[0;32mfor\u001b[0m \u001b[0mi\u001b[0m \u001b[0;32min\u001b[0m \u001b[0msorted\u001b[0m\u001b[0;34m(\u001b[0m\u001b[0mfiles\u001b[0m\u001b[0;34m)\u001b[0m\u001b[0;34m:\u001b[0m\u001b[0;34m\u001b[0m\u001b[0;34m\u001b[0m\u001b[0m\n\u001b[0m\u001b[1;32m      3\u001b[0m     \u001b[0me\u001b[0m \u001b[0;34m+=\u001b[0m \u001b[0;34m\" \"\u001b[0m \u001b[0;34m+\u001b[0m \u001b[0mi\u001b[0m\u001b[0;34m.\u001b[0m\u001b[0msplit\u001b[0m\u001b[0;34m(\u001b[0m\u001b[0;34m\".\"\u001b[0m\u001b[0;34m)\u001b[0m\u001b[0;34m[\u001b[0m\u001b[0;36m0\u001b[0m\u001b[0;34m]\u001b[0m\u001b[0;34m\u001b[0m\u001b[0;34m\u001b[0m\u001b[0m\n",
      "\u001b[0;31mNameError\u001b[0m: name 'files' is not defined"
     ]
    }
   ],
   "source": [
    "e = \"\"\n",
    "for i in sorted(files):\n",
    "    e += \" \" + i.split(\".\")[0]"
   ]
  },
  {
   "cell_type": "code",
   "execution_count": 2,
   "metadata": {},
   "outputs": [],
   "source": [
    "wd = \"../netg/\" \n",
    "files = os.listdir(wd)"
   ]
  },
  {
   "cell_type": "code",
   "execution_count": 3,
   "metadata": {},
   "outputs": [],
   "source": [
    "exists = os.listdir(\".\")"
   ]
  },
  {
   "cell_type": "code",
   "execution_count": 5,
   "metadata": {},
   "outputs": [
    {
     "name": "stdout",
     "output_type": "stream",
     "text": [
      "Minimum cost: 2618979806\n",
      "Minimum cost: 2618979806\n",
      "Minimum cost: 2618979806\n",
      "Minimum cost: 2618979806\n",
      "Minimum cost: 2618979806\n",
      "Minimum cost: 2618979806\n",
      "Minimum cost: 2618979806\n",
      "Minimum cost: 2618979806\n",
      "447 ms ± 43.9 ms per loop (mean ± std. dev. of 7 runs, 1 loop each)\n"
     ]
    }
   ],
   "source": [
    "%%timeit\n",
    "for f in [\"stndrd19.net\"]:\n",
    "    name = f.split(\".\")[0]\n",
    "    #if name + \"_solution.csv\" in exists:\n",
    "        #continue\n",
    "    arcs, nodes = read_net(f\"../netg/{f}\")\n",
    "    min_cost_flow = pywrapgraph.SimpleMinCostFlow()\n",
    "    for i, r in arcs.iterrows():\n",
    "        min_cost_flow.AddArcWithCapacityAndUnitCost(int(r[\"tail\"])-1, int(r[\"head\"])-1, int(r[\"cap\"]), int(r[\"cost\"]))\n",
    "\n",
    "    for i, v in enumerate(nodes):\n",
    "        min_cost_flow.SetNodeSupply(i, int(v))\n",
    "    \n",
    "    res = []\n",
    "    if min_cost_flow.Solve() == min_cost_flow.OPTIMAL:\n",
    "        print('Minimum cost:', min_cost_flow.OptimalCost())\n",
    "        for i in range(min_cost_flow.NumArcs()):\n",
    "            res.append(min_cost_flow.Flow(i))\n",
    "    arcs['flow'] = res\n",
    "    #arcs.to_csv(f\"{name}_solution.csv\", index=False)\n",
    "    #n = pd.DataFrame({\"nodes\": nodes})\n",
    "    #n.to_csv(f\"{name}_solution_nodes.csv\", index=False)"
   ]
  },
  {
   "cell_type": "code",
   "execution_count": null,
   "metadata": {},
   "outputs": [],
   "source": []
  }
 ],
 "metadata": {
  "kernelspec": {
   "display_name": "Python 3",
   "language": "python",
   "name": "python3"
  },
  "language_info": {
   "codemirror_mode": {
    "name": "ipython",
    "version": 3
   },
   "file_extension": ".py",
   "mimetype": "text/x-python",
   "name": "python",
   "nbconvert_exporter": "python",
   "pygments_lexer": "ipython3",
   "version": "3.7.6"
  }
 },
 "nbformat": 4,
 "nbformat_minor": 4
}
